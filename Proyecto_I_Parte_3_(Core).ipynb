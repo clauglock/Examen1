{
  "nbformat": 4,
  "nbformat_minor": 0,
  "metadata": {
    "colab": {
      "provenance": [],
      "authorship_tag": "ABX9TyN/fjqtlyaSAY16EC0ynyoQ",
      "include_colab_link": true
    },
    "kernelspec": {
      "name": "python3",
      "display_name": "Python 3"
    },
    "language_info": {
      "name": "python"
    }
  },
  "cells": [
    {
      "cell_type": "markdown",
      "metadata": {
        "id": "view-in-github",
        "colab_type": "text"
      },
      "source": [
        "<a href=\"https://colab.research.google.com/github/clauglock/Examen1/blob/main/Proyecto_I_Parte_3_(Core).ipynb\" target=\"_parent\"><img src=\"https://colab.research.google.com/assets/colab-badge.svg\" alt=\"Open In Colab\"/></a>"
      ]
    },
    {
      "cell_type": "markdown",
      "source": [],
      "metadata": {
        "id": "lLtjI6PblEHl"
      }
    },
    {
      "cell_type": "markdown",
      "source": [
        "**Proyecto I- Parte 3 (Core)**\n",
        "Análisis y Predicción de Ventas en una Tienda de Retail\n",
        "\n",
        "Parte III: Transformación y Análisis Avanzado de Datos con Pandas\n"
      ],
      "metadata": {
        "id": "miTvy9D7lEMQ"
      }
    },
    {
      "cell_type": "code",
      "source": [
        "# Importamos librerias.\n",
        "import numpy as np\n",
        "import pandas as pd\n",
        "from google.colab import drive # Importamos la libreria para montar Google Drive\n",
        "\n",
        "# Montar Google Drive\n",
        "drive.mount('/content/drive')\n",
        "\n",
        "def cargar_datos(ruta_archivo):\n",
        "    # Carga los datos del archivo CSV utilizando Pandas\n",
        "    datos = pd.read_csv(ruta_archivo)\n",
        "    return datos\n",
        "\n",
        "# Define la ruta del archivo fuera de la función\n",
        "ruta_archivo =  \"/content/drive/MyDrive/Colab Notebooks/BD/retail_sales_dataset.csv\"\n",
        "\n",
        "# Llama a la función para cargar los datos y asigna el resultado a la variable 'df'\n",
        "df = cargar_datos(ruta_archivo)\n",
        "\n",
        "\n",
        "df.info()"
      ],
      "metadata": {
        "id": "9KRKpYWAlFyq",
        "colab": {
          "base_uri": "https://localhost:8080/"
        },
        "outputId": "faeada38-771f-4051-d480-9317e34b1252"
      },
      "execution_count": 5,
      "outputs": [
        {
          "output_type": "stream",
          "name": "stdout",
          "text": [
            "Mounted at /content/drive\n",
            "<class 'pandas.core.frame.DataFrame'>\n",
            "RangeIndex: 1000 entries, 0 to 999\n",
            "Data columns (total 9 columns):\n",
            " #   Column            Non-Null Count  Dtype \n",
            "---  ------            --------------  ----- \n",
            " 0   Transaction ID    1000 non-null   int64 \n",
            " 1   Date              1000 non-null   object\n",
            " 2   Customer ID       1000 non-null   object\n",
            " 3   Gender            1000 non-null   object\n",
            " 4   Age               1000 non-null   int64 \n",
            " 5   Product Category  1000 non-null   object\n",
            " 6   Quantity          1000 non-null   int64 \n",
            " 7   Price per Unit    1000 non-null   int64 \n",
            " 8   Total Amount      1000 non-null   int64 \n",
            "dtypes: int64(5), object(4)\n",
            "memory usage: 70.4+ KB\n"
          ]
        }
      ]
    },
    {
      "cell_type": "code",
      "source": [
        "df.head(10)"
      ],
      "metadata": {
        "id": "TwKh4Wz1l7Ai"
      },
      "execution_count": null,
      "outputs": []
    },
    {
      "cell_type": "markdown",
      "source": [
        "**1.-Transformación de Datos**\n",
        "Crea nuevas columnas: Basándonos en los datos existentes, crea nuevas columnas que sean útiles para el análisis. Por ejemplo, calcula el ingreso total por venta y normaliza las ventas.\n",
        "Clasifica los datos: Crea una columna que clasifique las ventas en categorías significativas (e.g., ‘Alta’, ‘Media’, ‘Baja’)."
      ],
      "metadata": {
        "id": "GeI5FMJXmG5X"
      }
    },
    {
      "cell_type": "code",
      "source": [
        "# Muestra las últimas 5 filas del DataFrame.\n",
        "df.head()\n"
      ],
      "metadata": {
        "id": "sygrHnh1mIzS",
        "colab": {
          "base_uri": "https://localhost:8080/",
          "height": 310
        },
        "outputId": "b1aa68cb-312c-4530-9eee-83518826471d"
      },
      "execution_count": 6,
      "outputs": [
        {
          "output_type": "execute_result",
          "data": {
            "text/plain": [
              "   Transaction ID        Date Customer ID  Gender  Age Product Category  \\\n",
              "0               1  2023-11-24     CUST001    Male   34           Beauty   \n",
              "1               2  2023-02-27     CUST002  Female   26         Clothing   \n",
              "2               3  2023-01-13     CUST003    Male   50      Electronics   \n",
              "3               4  2023-05-21     CUST004    Male   37         Clothing   \n",
              "4               5  2023-05-06     CUST005    Male   30           Beauty   \n",
              "\n",
              "   Quantity  Price per Unit  Total Amount  \n",
              "0         3              50           150  \n",
              "1         2             500          1000  \n",
              "2         1              30            30  \n",
              "3         1             500           500  \n",
              "4         2              50           100  "
            ],
            "text/html": [
              "\n",
              "  <div id=\"df-7581e13b-9ed1-4633-80d9-21ecd7020824\" class=\"colab-df-container\">\n",
              "    <div>\n",
              "<style scoped>\n",
              "    .dataframe tbody tr th:only-of-type {\n",
              "        vertical-align: middle;\n",
              "    }\n",
              "\n",
              "    .dataframe tbody tr th {\n",
              "        vertical-align: top;\n",
              "    }\n",
              "\n",
              "    .dataframe thead th {\n",
              "        text-align: right;\n",
              "    }\n",
              "</style>\n",
              "<table border=\"1\" class=\"dataframe\">\n",
              "  <thead>\n",
              "    <tr style=\"text-align: right;\">\n",
              "      <th></th>\n",
              "      <th>Transaction ID</th>\n",
              "      <th>Date</th>\n",
              "      <th>Customer ID</th>\n",
              "      <th>Gender</th>\n",
              "      <th>Age</th>\n",
              "      <th>Product Category</th>\n",
              "      <th>Quantity</th>\n",
              "      <th>Price per Unit</th>\n",
              "      <th>Total Amount</th>\n",
              "    </tr>\n",
              "  </thead>\n",
              "  <tbody>\n",
              "    <tr>\n",
              "      <th>0</th>\n",
              "      <td>1</td>\n",
              "      <td>2023-11-24</td>\n",
              "      <td>CUST001</td>\n",
              "      <td>Male</td>\n",
              "      <td>34</td>\n",
              "      <td>Beauty</td>\n",
              "      <td>3</td>\n",
              "      <td>50</td>\n",
              "      <td>150</td>\n",
              "    </tr>\n",
              "    <tr>\n",
              "      <th>1</th>\n",
              "      <td>2</td>\n",
              "      <td>2023-02-27</td>\n",
              "      <td>CUST002</td>\n",
              "      <td>Female</td>\n",
              "      <td>26</td>\n",
              "      <td>Clothing</td>\n",
              "      <td>2</td>\n",
              "      <td>500</td>\n",
              "      <td>1000</td>\n",
              "    </tr>\n",
              "    <tr>\n",
              "      <th>2</th>\n",
              "      <td>3</td>\n",
              "      <td>2023-01-13</td>\n",
              "      <td>CUST003</td>\n",
              "      <td>Male</td>\n",
              "      <td>50</td>\n",
              "      <td>Electronics</td>\n",
              "      <td>1</td>\n",
              "      <td>30</td>\n",
              "      <td>30</td>\n",
              "    </tr>\n",
              "    <tr>\n",
              "      <th>3</th>\n",
              "      <td>4</td>\n",
              "      <td>2023-05-21</td>\n",
              "      <td>CUST004</td>\n",
              "      <td>Male</td>\n",
              "      <td>37</td>\n",
              "      <td>Clothing</td>\n",
              "      <td>1</td>\n",
              "      <td>500</td>\n",
              "      <td>500</td>\n",
              "    </tr>\n",
              "    <tr>\n",
              "      <th>4</th>\n",
              "      <td>5</td>\n",
              "      <td>2023-05-06</td>\n",
              "      <td>CUST005</td>\n",
              "      <td>Male</td>\n",
              "      <td>30</td>\n",
              "      <td>Beauty</td>\n",
              "      <td>2</td>\n",
              "      <td>50</td>\n",
              "      <td>100</td>\n",
              "    </tr>\n",
              "  </tbody>\n",
              "</table>\n",
              "</div>\n",
              "    <div class=\"colab-df-buttons\">\n",
              "\n",
              "  <div class=\"colab-df-container\">\n",
              "    <button class=\"colab-df-convert\" onclick=\"convertToInteractive('df-7581e13b-9ed1-4633-80d9-21ecd7020824')\"\n",
              "            title=\"Convert this dataframe to an interactive table.\"\n",
              "            style=\"display:none;\">\n",
              "\n",
              "  <svg xmlns=\"http://www.w3.org/2000/svg\" height=\"24px\" viewBox=\"0 -960 960 960\">\n",
              "    <path d=\"M120-120v-720h720v720H120Zm60-500h600v-160H180v160Zm220 220h160v-160H400v160Zm0 220h160v-160H400v160ZM180-400h160v-160H180v160Zm440 0h160v-160H620v160ZM180-180h160v-160H180v160Zm440 0h160v-160H620v160Z\"/>\n",
              "  </svg>\n",
              "    </button>\n",
              "\n",
              "  <style>\n",
              "    .colab-df-container {\n",
              "      display:flex;\n",
              "      gap: 12px;\n",
              "    }\n",
              "\n",
              "    .colab-df-convert {\n",
              "      background-color: #E8F0FE;\n",
              "      border: none;\n",
              "      border-radius: 50%;\n",
              "      cursor: pointer;\n",
              "      display: none;\n",
              "      fill: #1967D2;\n",
              "      height: 32px;\n",
              "      padding: 0 0 0 0;\n",
              "      width: 32px;\n",
              "    }\n",
              "\n",
              "    .colab-df-convert:hover {\n",
              "      background-color: #E2EBFA;\n",
              "      box-shadow: 0px 1px 2px rgba(60, 64, 67, 0.3), 0px 1px 3px 1px rgba(60, 64, 67, 0.15);\n",
              "      fill: #174EA6;\n",
              "    }\n",
              "\n",
              "    .colab-df-buttons div {\n",
              "      margin-bottom: 4px;\n",
              "    }\n",
              "\n",
              "    [theme=dark] .colab-df-convert {\n",
              "      background-color: #3B4455;\n",
              "      fill: #D2E3FC;\n",
              "    }\n",
              "\n",
              "    [theme=dark] .colab-df-convert:hover {\n",
              "      background-color: #434B5C;\n",
              "      box-shadow: 0px 1px 3px 1px rgba(0, 0, 0, 0.15);\n",
              "      filter: drop-shadow(0px 1px 2px rgba(0, 0, 0, 0.3));\n",
              "      fill: #FFFFFF;\n",
              "    }\n",
              "  </style>\n",
              "\n",
              "    <script>\n",
              "      const buttonEl =\n",
              "        document.querySelector('#df-7581e13b-9ed1-4633-80d9-21ecd7020824 button.colab-df-convert');\n",
              "      buttonEl.style.display =\n",
              "        google.colab.kernel.accessAllowed ? 'block' : 'none';\n",
              "\n",
              "      async function convertToInteractive(key) {\n",
              "        const element = document.querySelector('#df-7581e13b-9ed1-4633-80d9-21ecd7020824');\n",
              "        const dataTable =\n",
              "          await google.colab.kernel.invokeFunction('convertToInteractive',\n",
              "                                                    [key], {});\n",
              "        if (!dataTable) return;\n",
              "\n",
              "        const docLinkHtml = 'Like what you see? Visit the ' +\n",
              "          '<a target=\"_blank\" href=https://colab.research.google.com/notebooks/data_table.ipynb>data table notebook</a>'\n",
              "          + ' to learn more about interactive tables.';\n",
              "        element.innerHTML = '';\n",
              "        dataTable['output_type'] = 'display_data';\n",
              "        await google.colab.output.renderOutput(dataTable, element);\n",
              "        const docLink = document.createElement('div');\n",
              "        docLink.innerHTML = docLinkHtml;\n",
              "        element.appendChild(docLink);\n",
              "      }\n",
              "    </script>\n",
              "  </div>\n",
              "\n",
              "\n",
              "    <div id=\"df-17917e4f-03bc-48f3-ab44-2d9acd0bb303\">\n",
              "      <button class=\"colab-df-quickchart\" onclick=\"quickchart('df-17917e4f-03bc-48f3-ab44-2d9acd0bb303')\"\n",
              "                title=\"Suggest charts\"\n",
              "                style=\"display:none;\">\n",
              "\n",
              "<svg xmlns=\"http://www.w3.org/2000/svg\" height=\"24px\"viewBox=\"0 0 24 24\"\n",
              "     width=\"24px\">\n",
              "    <g>\n",
              "        <path d=\"M19 3H5c-1.1 0-2 .9-2 2v14c0 1.1.9 2 2 2h14c1.1 0 2-.9 2-2V5c0-1.1-.9-2-2-2zM9 17H7v-7h2v7zm4 0h-2V7h2v10zm4 0h-2v-4h2v4z\"/>\n",
              "    </g>\n",
              "</svg>\n",
              "      </button>\n",
              "\n",
              "<style>\n",
              "  .colab-df-quickchart {\n",
              "      --bg-color: #E8F0FE;\n",
              "      --fill-color: #1967D2;\n",
              "      --hover-bg-color: #E2EBFA;\n",
              "      --hover-fill-color: #174EA6;\n",
              "      --disabled-fill-color: #AAA;\n",
              "      --disabled-bg-color: #DDD;\n",
              "  }\n",
              "\n",
              "  [theme=dark] .colab-df-quickchart {\n",
              "      --bg-color: #3B4455;\n",
              "      --fill-color: #D2E3FC;\n",
              "      --hover-bg-color: #434B5C;\n",
              "      --hover-fill-color: #FFFFFF;\n",
              "      --disabled-bg-color: #3B4455;\n",
              "      --disabled-fill-color: #666;\n",
              "  }\n",
              "\n",
              "  .colab-df-quickchart {\n",
              "    background-color: var(--bg-color);\n",
              "    border: none;\n",
              "    border-radius: 50%;\n",
              "    cursor: pointer;\n",
              "    display: none;\n",
              "    fill: var(--fill-color);\n",
              "    height: 32px;\n",
              "    padding: 0;\n",
              "    width: 32px;\n",
              "  }\n",
              "\n",
              "  .colab-df-quickchart:hover {\n",
              "    background-color: var(--hover-bg-color);\n",
              "    box-shadow: 0 1px 2px rgba(60, 64, 67, 0.3), 0 1px 3px 1px rgba(60, 64, 67, 0.15);\n",
              "    fill: var(--button-hover-fill-color);\n",
              "  }\n",
              "\n",
              "  .colab-df-quickchart-complete:disabled,\n",
              "  .colab-df-quickchart-complete:disabled:hover {\n",
              "    background-color: var(--disabled-bg-color);\n",
              "    fill: var(--disabled-fill-color);\n",
              "    box-shadow: none;\n",
              "  }\n",
              "\n",
              "  .colab-df-spinner {\n",
              "    border: 2px solid var(--fill-color);\n",
              "    border-color: transparent;\n",
              "    border-bottom-color: var(--fill-color);\n",
              "    animation:\n",
              "      spin 1s steps(1) infinite;\n",
              "  }\n",
              "\n",
              "  @keyframes spin {\n",
              "    0% {\n",
              "      border-color: transparent;\n",
              "      border-bottom-color: var(--fill-color);\n",
              "      border-left-color: var(--fill-color);\n",
              "    }\n",
              "    20% {\n",
              "      border-color: transparent;\n",
              "      border-left-color: var(--fill-color);\n",
              "      border-top-color: var(--fill-color);\n",
              "    }\n",
              "    30% {\n",
              "      border-color: transparent;\n",
              "      border-left-color: var(--fill-color);\n",
              "      border-top-color: var(--fill-color);\n",
              "      border-right-color: var(--fill-color);\n",
              "    }\n",
              "    40% {\n",
              "      border-color: transparent;\n",
              "      border-right-color: var(--fill-color);\n",
              "      border-top-color: var(--fill-color);\n",
              "    }\n",
              "    60% {\n",
              "      border-color: transparent;\n",
              "      border-right-color: var(--fill-color);\n",
              "    }\n",
              "    80% {\n",
              "      border-color: transparent;\n",
              "      border-right-color: var(--fill-color);\n",
              "      border-bottom-color: var(--fill-color);\n",
              "    }\n",
              "    90% {\n",
              "      border-color: transparent;\n",
              "      border-bottom-color: var(--fill-color);\n",
              "    }\n",
              "  }\n",
              "</style>\n",
              "\n",
              "      <script>\n",
              "        async function quickchart(key) {\n",
              "          const quickchartButtonEl =\n",
              "            document.querySelector('#' + key + ' button');\n",
              "          quickchartButtonEl.disabled = true;  // To prevent multiple clicks.\n",
              "          quickchartButtonEl.classList.add('colab-df-spinner');\n",
              "          try {\n",
              "            const charts = await google.colab.kernel.invokeFunction(\n",
              "                'suggestCharts', [key], {});\n",
              "          } catch (error) {\n",
              "            console.error('Error during call to suggestCharts:', error);\n",
              "          }\n",
              "          quickchartButtonEl.classList.remove('colab-df-spinner');\n",
              "          quickchartButtonEl.classList.add('colab-df-quickchart-complete');\n",
              "        }\n",
              "        (() => {\n",
              "          let quickchartButtonEl =\n",
              "            document.querySelector('#df-17917e4f-03bc-48f3-ab44-2d9acd0bb303 button');\n",
              "          quickchartButtonEl.style.display =\n",
              "            google.colab.kernel.accessAllowed ? 'block' : 'none';\n",
              "        })();\n",
              "      </script>\n",
              "    </div>\n",
              "\n",
              "    </div>\n",
              "  </div>\n"
            ],
            "application/vnd.google.colaboratory.intrinsic+json": {
              "type": "dataframe",
              "variable_name": "df",
              "summary": "{\n  \"name\": \"df\",\n  \"rows\": 1000,\n  \"fields\": [\n    {\n      \"column\": \"Transaction ID\",\n      \"properties\": {\n        \"dtype\": \"number\",\n        \"std\": 288,\n        \"min\": 1,\n        \"max\": 1000,\n        \"num_unique_values\": 1000,\n        \"samples\": [\n          522,\n          738,\n          741\n        ],\n        \"semantic_type\": \"\",\n        \"description\": \"\"\n      }\n    },\n    {\n      \"column\": \"Date\",\n      \"properties\": {\n        \"dtype\": \"object\",\n        \"num_unique_values\": 345,\n        \"samples\": [\n          \"2023-04-04\",\n          \"2023-04-13\",\n          \"2023-04-15\"\n        ],\n        \"semantic_type\": \"\",\n        \"description\": \"\"\n      }\n    },\n    {\n      \"column\": \"Customer ID\",\n      \"properties\": {\n        \"dtype\": \"string\",\n        \"num_unique_values\": 1000,\n        \"samples\": [\n          \"CUST522\",\n          \"CUST738\",\n          \"CUST741\"\n        ],\n        \"semantic_type\": \"\",\n        \"description\": \"\"\n      }\n    },\n    {\n      \"column\": \"Gender\",\n      \"properties\": {\n        \"dtype\": \"category\",\n        \"num_unique_values\": 2,\n        \"samples\": [\n          \"Female\",\n          \"Male\"\n        ],\n        \"semantic_type\": \"\",\n        \"description\": \"\"\n      }\n    },\n    {\n      \"column\": \"Age\",\n      \"properties\": {\n        \"dtype\": \"number\",\n        \"std\": 13,\n        \"min\": 18,\n        \"max\": 64,\n        \"num_unique_values\": 47,\n        \"samples\": [\n          48,\n          61\n        ],\n        \"semantic_type\": \"\",\n        \"description\": \"\"\n      }\n    },\n    {\n      \"column\": \"Product Category\",\n      \"properties\": {\n        \"dtype\": \"category\",\n        \"num_unique_values\": 3,\n        \"samples\": [\n          \"Beauty\",\n          \"Clothing\"\n        ],\n        \"semantic_type\": \"\",\n        \"description\": \"\"\n      }\n    },\n    {\n      \"column\": \"Quantity\",\n      \"properties\": {\n        \"dtype\": \"number\",\n        \"std\": 1,\n        \"min\": 1,\n        \"max\": 4,\n        \"num_unique_values\": 4,\n        \"samples\": [\n          2,\n          4\n        ],\n        \"semantic_type\": \"\",\n        \"description\": \"\"\n      }\n    },\n    {\n      \"column\": \"Price per Unit\",\n      \"properties\": {\n        \"dtype\": \"number\",\n        \"std\": 189,\n        \"min\": 25,\n        \"max\": 500,\n        \"num_unique_values\": 5,\n        \"samples\": [\n          500,\n          300\n        ],\n        \"semantic_type\": \"\",\n        \"description\": \"\"\n      }\n    },\n    {\n      \"column\": \"Total Amount\",\n      \"properties\": {\n        \"dtype\": \"number\",\n        \"std\": 559,\n        \"min\": 25,\n        \"max\": 2000,\n        \"num_unique_values\": 18,\n        \"samples\": [\n          150,\n          1000\n        ],\n        \"semantic_type\": \"\",\n        \"description\": \"\"\n      }\n    }\n  ]\n}"
            }
          },
          "metadata": {},
          "execution_count": 6
        }
      ]
    },
    {
      "cell_type": "code",
      "source": [
        "#Regulariza nombre de columnas con espacio\n",
        "df.columns = df.columns.str.replace(' ', '_')\n",
        "print(df.columns)"
      ],
      "metadata": {
        "colab": {
          "base_uri": "https://localhost:8080/"
        },
        "id": "tvg3eYgXUPv4",
        "outputId": "e4c7f96e-f5c7-47db-f715-35b844fea40b"
      },
      "execution_count": 9,
      "outputs": [
        {
          "output_type": "stream",
          "name": "stdout",
          "text": [
            "Index(['transaction_id', 'date', 'customer_id', 'gender', 'age',\n",
            "       'product_category', 'quantity', 'price_per_unit', 'total_amount'],\n",
            "      dtype='object')\n"
          ]
        }
      ]
    },
    {
      "cell_type": "code",
      "source": [
        "#Regulariza nombre de columnas dejandolas en minusculas\n",
        "df.columns = df.columns.str.lower()\n",
        "print(df.columns)\n"
      ],
      "metadata": {
        "colab": {
          "base_uri": "https://localhost:8080/"
        },
        "id": "iDDf2t7aUbna",
        "outputId": "bc6e29db-8b41-4ccb-9da4-7a7e041f7450"
      },
      "execution_count": 8,
      "outputs": [
        {
          "output_type": "stream",
          "name": "stdout",
          "text": [
            "Index(['transaction id', 'date', 'customer id', 'gender', 'age',\n",
            "       'product category', 'quantity', 'price per unit', 'total amount'],\n",
            "      dtype='object')\n"
          ]
        }
      ]
    },
    {
      "cell_type": "code",
      "source": [
        "#Crea una nueva columna.\n",
        "df[\"total income\"] = df[\"price_per_unit\"] * df[\"total_amount\"]\n",
        "print(df.head())  # Muestra las primeras filas con la nueva columna\n"
      ],
      "metadata": {
        "id": "ne-ksvufmUwI",
        "colab": {
          "base_uri": "https://localhost:8080/"
        },
        "outputId": "7d221676-c950-4bf7-e44a-a09ff61af25c"
      },
      "execution_count": 10,
      "outputs": [
        {
          "output_type": "stream",
          "name": "stdout",
          "text": [
            "   transaction_id        date customer_id  gender  age product_category  \\\n",
            "0               1  2023-11-24     CUST001    Male   34           Beauty   \n",
            "1               2  2023-02-27     CUST002  Female   26         Clothing   \n",
            "2               3  2023-01-13     CUST003    Male   50      Electronics   \n",
            "3               4  2023-05-21     CUST004    Male   37         Clothing   \n",
            "4               5  2023-05-06     CUST005    Male   30           Beauty   \n",
            "\n",
            "   quantity  price_per_unit  total_amount  total income  \n",
            "0         3              50           150          7500  \n",
            "1         2             500          1000        500000  \n",
            "2         1              30            30           900  \n",
            "3         1             500           500        250000  \n",
            "4         2              50           100          5000  \n"
          ]
        }
      ]
    },
    {
      "cell_type": "markdown",
      "source": [
        "**Agrupación y Agregación**\n",
        "Agrupación por múltiples columnas: Realiza agrupaciones por categorías como producto y tienda, producto y mes, etc.\n",
        "Aplicar funciones de agregación: Utiliza funciones como sum, mean, count, min, max, std, y var para obtener estadísticas descriptivas de cada grupo."
      ],
      "metadata": {
        "id": "UKpzDDzwMtYn"
      }
    },
    {
      "cell_type": "code",
      "source": [
        "grouped = df.groupby(['product_category','gender'])\n",
        "\n",
        "# Suma de ventas por producto\n",
        "ventas_por_producto = grouped['total_amount'].sum()\n",
        "print(\"Ventas por producto: \")\n",
        "print(ventas_por_producto)\n",
        "print(\"  \")\n",
        "\n",
        "# Promedio de ventas por producto\n",
        "\n",
        "promedio_ventas_por_producto = grouped['total_amount'].mean()\n",
        "print(\"Promedio_ventas_por_producto: \")\n",
        "print(promedio_ventas_por_producto)\n",
        "print(\"  \")\n",
        "\n",
        "# Número de ventas por producto\n",
        "conteo_ventas_por_producto = grouped['total_amount'].count()\n",
        "print(\"Conteo Ventas por producto: \")\n",
        "print(conteo_ventas_por_producto)\n",
        "print(\"  \")\n",
        "\n",
        "# Minimo de ventas por producto\n",
        "ventas_por_producto = grouped['total_amount'].min()\n",
        "print(\"Mínimo de Ventas por producto: \")\n",
        "print(ventas_por_producto)\n",
        "print(\"  \")\n",
        "\n",
        "# Máximo de ventas por producto\n",
        "ventas_por_producto = grouped['total_amount'].max()\n",
        "print(\"Máximo de Ventas por producto: \")\n",
        "print(ventas_por_producto)\n",
        "print(\"  \")\n",
        "\n",
        "# Std de ventas por producto\n",
        "ventas_por_producto = grouped['total_amount'].std()\n",
        "print(\"Desviación Estandar de Ventas por producto: \")\n",
        "print(ventas_por_producto)\n"
      ],
      "metadata": {
        "id": "kiaTgFYZm7to",
        "colab": {
          "base_uri": "https://localhost:8080/"
        },
        "outputId": "a0836bfe-0cd5-435d-f87c-c3d546851cc7"
      },
      "execution_count": 20,
      "outputs": [
        {
          "output_type": "stream",
          "name": "stdout",
          "text": [
            "Ventas por producto: \n",
            "product_category  gender\n",
            "Beauty            Female    74830\n",
            "                  Male      68685\n",
            "Clothing          Female    81275\n",
            "                  Male      74305\n",
            "Electronics       Female    76735\n",
            "                  Male      80170\n",
            "Name: total_amount, dtype: int64\n",
            "  \n",
            "Promedio_ventas_por_producto: \n",
            "product_category  gender\n",
            "Beauty            Female    450.783133\n",
            "                  Male      487.127660\n",
            "Clothing          Female    467.097701\n",
            "                  Male      419.802260\n",
            "Electronics       Female    451.382353\n",
            "                  Male      466.104651\n",
            "Name: total_amount, dtype: float64\n",
            "  \n",
            "Conteo Ventas por producto: \n",
            "product_category  gender\n",
            "Beauty            Female    166\n",
            "                  Male      141\n",
            "Clothing          Female    174\n",
            "                  Male      177\n",
            "Electronics       Female    170\n",
            "                  Male      172\n",
            "Name: total_amount, dtype: int64\n",
            "  \n",
            "Mínimo de Ventas por producto: \n",
            "product_category  gender\n",
            "Beauty            Female    25\n",
            "                  Male      25\n",
            "Clothing          Female    25\n",
            "                  Male      25\n",
            "Electronics       Female    25\n",
            "                  Male      25\n",
            "Name: total_amount, dtype: int64\n",
            "  \n",
            "Máximo de Ventas por producto: \n",
            "product_category  gender\n",
            "Beauty            Female    2000\n",
            "                  Male      2000\n",
            "Clothing          Female    2000\n",
            "                  Male      2000\n",
            "Electronics       Female    2000\n",
            "                  Male      2000\n",
            "Name: total_amount, dtype: int64\n",
            "  \n",
            "Desviación Estandar de Ventas por producto: \n",
            "product_category  gender\n",
            "Beauty            Female    538.735040\n",
            "                  Male      592.899725\n",
            "Clothing          Female    577.016491\n",
            "                  Male      524.116237\n",
            "Electronics       Female    548.644646\n",
            "                  Male      587.129702\n",
            "Name: total_amount, dtype: float64\n"
          ]
        }
      ]
    },
    {
      "cell_type": "markdown",
      "source": [
        "**3.-Análisis Personalizado con apply**\n",
        "Función personalizada: Aplica funciones personalizadas para realizar análisis específicos que no se pueden lograr con las funciones de agregación estándar.\n",
        "Ejemplo de uso avanzado: Calcula la desviación de cada venta respecto a la media de su grupo."
      ],
      "metadata": {
        "id": "VNcnI20aU5Jp"
      }
    },
    {
      "cell_type": "code",
      "source": [
        "\n",
        "# Calcular el ingreso total por venta\n",
        "df['Ingreso'] = df.apply(lambda row: row['total_amount'] * row['price_per_unit'], axis=1)\n",
        "\n",
        "# Clasificar los productos por rango de ventas\n",
        "df['Clasificación'] = df['total_amount'].apply(lambda x: 'Alta' if x > 40 else 'Baja')\n",
        "\n",
        "# Normalizar la columna 'Ventas'\n",
        "max_ventas = df['total_amount'].max()\n",
        "min_ventas = df['total_amount'].min()\n",
        "df['Ventas_normalizado'] = df['total_amount'].apply(lambda x: (x - min_ventas) / (max_ventas - min_ventas))\n",
        "\n",
        "# Mostrar el DataFrame resultante\n",
        "print(df)"
      ],
      "metadata": {
        "colab": {
          "base_uri": "https://localhost:8080/"
        },
        "id": "qL1wtlKQU-6H",
        "outputId": "95c23734-3dfb-4b60-88f7-fb99716d9a5f"
      },
      "execution_count": 22,
      "outputs": [
        {
          "output_type": "stream",
          "name": "stdout",
          "text": [
            "     transaction_id        date customer_id  gender  age product_category  \\\n",
            "0                 1  2023-11-24     CUST001    Male   34           Beauty   \n",
            "1                 2  2023-02-27     CUST002  Female   26         Clothing   \n",
            "2                 3  2023-01-13     CUST003    Male   50      Electronics   \n",
            "3                 4  2023-05-21     CUST004    Male   37         Clothing   \n",
            "4                 5  2023-05-06     CUST005    Male   30           Beauty   \n",
            "..              ...         ...         ...     ...  ...              ...   \n",
            "995             996  2023-05-16     CUST996    Male   62         Clothing   \n",
            "996             997  2023-11-17     CUST997    Male   52           Beauty   \n",
            "997             998  2023-10-29     CUST998  Female   23           Beauty   \n",
            "998             999  2023-12-05     CUST999  Female   36      Electronics   \n",
            "999            1000  2023-04-12    CUST1000    Male   47      Electronics   \n",
            "\n",
            "     quantity  price_per_unit  total_amount  total income  Ingreso  \\\n",
            "0           3              50           150          7500     7500   \n",
            "1           2             500          1000        500000   500000   \n",
            "2           1              30            30           900      900   \n",
            "3           1             500           500        250000   250000   \n",
            "4           2              50           100          5000     5000   \n",
            "..        ...             ...           ...           ...      ...   \n",
            "995         1              50            50          2500     2500   \n",
            "996         3              30            90          2700     2700   \n",
            "997         4              25           100          2500     2500   \n",
            "998         3              50           150          7500     7500   \n",
            "999         4              30           120          3600     3600   \n",
            "\n",
            "    Clasificación  Ventas_normalizado  \n",
            "0            Alta            0.063291  \n",
            "1            Alta            0.493671  \n",
            "2            Baja            0.002532  \n",
            "3            Alta            0.240506  \n",
            "4            Alta            0.037975  \n",
            "..            ...                 ...  \n",
            "995          Alta            0.012658  \n",
            "996          Alta            0.032911  \n",
            "997          Alta            0.037975  \n",
            "998          Alta            0.063291  \n",
            "999          Alta            0.048101  \n",
            "\n",
            "[1000 rows x 13 columns]\n"
          ]
        }
      ]
    }
  ]
}